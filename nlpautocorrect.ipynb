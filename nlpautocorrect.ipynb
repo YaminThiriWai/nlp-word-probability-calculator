{
 "cells": [
  {
   "cell_type": "code",
   "execution_count": 14,
   "metadata": {},
   "outputs": [
    {
     "name": "stdout",
     "output_type": "stream",
     "text": [
      "Top ten words in the text are: ['this', 'is', 'an', 'example', 'sentence', 'feel', 'free', 'to', 'replace', 'it']\n",
      "Total Unique words are 22.\n",
      "       Word      Prob  Similarity\n",
      "3   example  0.041667    0.857143\n",
      "13     text  0.041667    0.111111\n",
      "16     will  0.041667    0.111111\n",
      "21     file  0.041667    0.111111\n",
      "8   replace  0.041667    0.083333\n"
     ]
    }
   ],
   "source": [
    "import nltk\n",
    "nltk.download('all')\n",
    "import pandas as pd\n",
    "import numpy as np\n",
    "import textdistance\n",
    "import re\n",
    "from collections import Counter\n",
    "\n",
    "words = []\n",
    "with open('auto.txt', 'r') as f:\n",
    "    file_name_data = f.read()\n",
    "    file_name_data = file_name_data.lower()\n",
    "    words = re.findall(r'\\w+', file_name_data) \n",
    "\n",
    "V = set(words)\n",
    "print(f\"Top ten words in the text are: {words[0:10]}\") \n",
    "print(f\"Total Unique words are {len(V)}.\")\n",
    "\n",
    "word_freq = Counter(words)\n",
    "\n",
    "probs = {k: word_freq[k] / len(words) for k in word_freq}\n",
    "\n",
    "def my_autocorrect(input_word):\n",
    "    input_word = input_word.lower()\n",
    "    \n",
    "    if input_word in V:\n",
    "        return 'Your word seems to be correct'\n",
    "    else:\n",
    "        sim = [1 - textdistance.Jaccard(qval=2).distance(v, input_word) for v in word_freq.keys()]\n",
    "        df = pd.DataFrame.from_dict(probs, orient='index').reset_index()\n",
    "        df = df.rename(columns={'index': 'Word', 0: 'Prob'})\n",
    "        df['Similarity'] = sim\n",
    "        output = df.sort_values(['Similarity', 'Prob'], ascending=False).head()\n",
    "        return output\n",
    "\n",
    "result = my_autocorrect('examplle') \n",
    "print(result)\n"
   ]
  }
 ],
 "metadata": {
  "kernelspec": {
   "display_name": "base",
   "language": "python",
   "name": "python3"
  },
  "language_info": {
   "codemirror_mode": {
    "name": "ipython",
    "version": 3
   },
   "file_extension": ".py",
   "mimetype": "text/x-python",
   "name": "python",
   "nbconvert_exporter": "python",
   "pygments_lexer": "ipython3",
   "version": "3.11.5"
  }
 },
 "nbformat": 4,
 "nbformat_minor": 2
}
